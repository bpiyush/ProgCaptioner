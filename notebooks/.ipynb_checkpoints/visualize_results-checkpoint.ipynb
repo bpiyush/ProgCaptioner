{
 "cells": [
  {
   "cell_type": "code",
   "execution_count": null,
   "id": "6cc2ecf1-afcc-45b8-aa08-78578571c403",
   "metadata": {},
   "outputs": [],
   "source": [
    "!export PYTHONPATH=\"/athenahomes/piyush/projects/ProgCaptioner\""
   ]
  },
  {
   "cell_type": "code",
   "execution_count": null,
   "id": "159086e9-ea79-4479-aff2-5b9edca540dd",
   "metadata": {},
   "outputs": [],
   "source": [
    "import sys\n",
    "sys.path.append(\"/athenahomes/piyush/projects/ProgCaptioner\")\n",
    "\n",
    "import os\n",
    "import json\n",
    "\n",
    "import pandas as pd\n",
    "import matplotlib.pyplot as plt\n",
    "import numpy as np\n",
    "import PIL\n",
    "import PIL.Image\n",
    "\n",
    "import shared.utils as su"
   ]
  },
  {
   "cell_type": "code",
   "execution_count": null,
   "id": "6a47cade-c5c9-4829-997f-cb7fa051753e",
   "metadata": {},
   "outputs": [],
   "source": [
    "def load_json(path: str) -> dict:\n",
    "    \"\"\"Helper to load json file\"\"\"\n",
    "    with open(path, 'rb') as f:\n",
    "        data = json.load(f)\n",
    "    return data"
   ]
  },
  {
   "cell_type": "code",
   "execution_count": null,
   "id": "7073c374-3110-4f2d-aa2b-61796d4dbe18",
   "metadata": {},
   "outputs": [],
   "source": [
    "# Load json file\n",
    "out_dir = \"/scratch/shared/beegfs/piyush/datasets/Kinetics400/progress_captions\"\n",
    "json_file = os.path.join(out_dir, \"output_data.json\")\n",
    "data = load_json(json_file)\n",
    "type(data)"
   ]
  },
  {
   "cell_type": "code",
   "execution_count": null,
   "id": "8de1f750-2f8a-4556-bec3-096e0a625692",
   "metadata": {},
   "outputs": [],
   "source": [
    "# Load images\n",
    "item = data[np.random.randint(len(data))]\n",
    "images = item[\"image_files\"]\n",
    "images = [PIL.Image.open(f) for f in images]\n",
    "captions = item[\"response0\"].split(\"\\n\")\n",
    "\n",
    "# su.visualize.show_grid_of_images(images, n_cols=len(images), figsize=(14, 4), subtitles=captions)\n",
    "su.visualize.display_frames_with_captions(images, captions, max_width=1200)"
   ]
  },
  {
   "cell_type": "code",
   "execution_count": null,
   "id": "47927859-76b0-45f7-bbf3-bb9bb597c40f",
   "metadata": {},
   "outputs": [],
   "source": []
  },
  {
   "cell_type": "code",
   "execution_count": null,
   "id": "3ea84330-d350-4937-9e7c-c4a53bc75435",
   "metadata": {},
   "outputs": [],
   "source": []
  },
  {
   "cell_type": "code",
   "execution_count": null,
   "id": "52a8cabe-6e3a-49f7-96ac-afdf8ee23ab9",
   "metadata": {},
   "outputs": [],
   "source": []
  },
  {
   "cell_type": "code",
   "execution_count": null,
   "id": "b640ab4d-21cf-4f39-9105-2bae277d9ddb",
   "metadata": {},
   "outputs": [],
   "source": []
  },
  {
   "cell_type": "code",
   "execution_count": null,
   "id": "3e7739c5-3d8a-4649-8908-dce06921fa26",
   "metadata": {},
   "outputs": [],
   "source": []
  },
  {
   "cell_type": "code",
   "execution_count": null,
   "id": "e2704d97-b822-4946-8ea2-7e9334d2e6a5",
   "metadata": {},
   "outputs": [],
   "source": []
  }
 ],
 "metadata": {
  "kernelspec": {
   "display_name": "Python 3 (ipykernel)",
   "language": "python",
   "name": "python3"
  },
  "language_info": {
   "codemirror_mode": {
    "name": "ipython",
    "version": 3
   },
   "file_extension": ".py",
   "mimetype": "text/x-python",
   "name": "python",
   "nbconvert_exporter": "python",
   "pygments_lexer": "ipython3",
   "version": "3.10.18"
  }
 },
 "nbformat": 4,
 "nbformat_minor": 5
}
